{
 "cells": [
  {
   "cell_type": "markdown",
   "id": "549bd29b-91bc-4b1d-acbb-d8800231b41b",
   "metadata": {
    "tags": []
   },
   "source": [
    "# Data Science Tools and Ecosystem"
   ]
  },
  {
   "cell_type": "markdown",
   "id": "81873c4f-341c-4456-a9a5-01f2233ebfa1",
   "metadata": {},
   "source": [
    "In this notebook, Data Science Tools and Ecosystem are summarized "
   ]
  },
  {
   "cell_type": "markdown",
   "id": "575f9892-4aee-4153-b2c3-fab81205b2d2",
   "metadata": {
    "tags": []
   },
   "source": [
    "**Objective**\n",
    "- 1°\n",
    "- 2°\n",
    "- 3°"
   ]
  },
  {
   "cell_type": "markdown",
   "id": "4ff45122-c1a2-43a4-9bf6-b3197e731dca",
   "metadata": {},
   "source": [
    "Some of the popular languages that Data Sciences use are:\n",
    "- R\n",
    "- Python\n",
    "- ?"
   ]
  },
  {
   "cell_type": "markdown",
   "id": "785ad0a7-016d-4197-886f-9a43c7c3c3ae",
   "metadata": {},
   "source": [
    "Some of the common used libraries used by Data Scientists include:\n",
    "1. Panda\n",
    "2. NumPy\n",
    "3. Matpltlib"
   ]
  },
  {
   "cell_type": "markdown",
   "id": "e58be16d-0a81-447d-9434-fa31562c2a27",
   "metadata": {},
   "source": [
    "| DAta Science Tools |\n",
    "| ------------------ |\n",
    "| 1° Development Environment |\n",
    "| 2° Development Environment |\n",
    "| 3° Development Environment |"
   ]
  },
  {
   "cell_type": "markdown",
   "id": "9a22e72e-b101-4e77-bf40-0fbe8f59dd08",
   "metadata": {},
   "source": [
    "### Below are a few examples of evaluating arithmetic expressions in Python"
   ]
  },
  {
   "cell_type": "code",
   "execution_count": 6,
   "id": "5ede5cdc-15ae-4f77-9f3c-aaebdfd9085b",
   "metadata": {
    "tags": []
   },
   "outputs": [
    {
     "data": {
      "text/plain": [
       "17"
      ]
     },
     "execution_count": 6,
     "metadata": {},
     "output_type": "execute_result"
    }
   ],
   "source": [
    "(3*4)+5"
   ]
  },
  {
   "cell_type": "code",
   "execution_count": 17,
   "id": "75a222e7-7983-4dad-9133-e9b0931a930f",
   "metadata": {
    "tags": []
   },
   "outputs": [
    {
     "name": "stdout",
     "output_type": "stream",
     "text": [
      "3.3333333333333335 hours\n",
      "or\n",
      "3 hours and 20 minutes\n"
     ]
    }
   ],
   "source": [
    "# This will convenrt 200 minutes to hours by dividing by 60\n",
    "\n",
    "print(200/60, \"hours\\nor\")\n",
    "print(200//60,\"hours and\",200 - ((200//60)*60),\"minutes\")"
   ]
  },
  {
   "cell_type": "markdown",
   "id": "de8e5a5b-dbcb-4bbd-a921-22111049f626",
   "metadata": {},
   "source": [
    "## Author\n",
    "Salvo Bazzano"
   ]
  },
  {
   "cell_type": "code",
   "execution_count": null,
   "id": "2669411b-a6fe-4dfc-916a-5913ea0db843",
   "metadata": {},
   "outputs": [],
   "source": []
  }
 ],
 "metadata": {
  "kernelspec": {
   "display_name": "Python 3 (ipykernel)",
   "language": "python",
   "name": "python3"
  },
  "language_info": {
   "codemirror_mode": {
    "name": "ipython",
    "version": 3
   },
   "file_extension": ".py",
   "mimetype": "text/x-python",
   "name": "python",
   "nbconvert_exporter": "python",
   "pygments_lexer": "ipython3",
   "version": "3.11.5"
  }
 },
 "nbformat": 4,
 "nbformat_minor": 5
}
